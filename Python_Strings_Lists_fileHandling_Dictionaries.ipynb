{
 "cells": [
  {
   "cell_type": "code",
   "execution_count": 6,
   "metadata": {},
   "outputs": [
    {
     "name": "stdout",
     "output_type": "stream",
     "text": [
      "A\n",
      "<class 'str'>\n",
      "Hello\n",
      "<class 'str'>\n",
      "Hi\n",
      "<class 'str'>\n"
     ]
    }
   ],
   "source": [
    "x = 'Hello'\n",
    "s = \"Hi\"\n",
    "a = 'A'\n",
    "\n",
    "print(a)\n",
    "print(type(a))\n",
    "print(x)\n",
    "print(type(x))\n",
    "print(s)\n",
    "print(type(s))"
   ]
  },
  {
   "cell_type": "code",
   "execution_count": 21,
   "metadata": {},
   "outputs": [
    {
     "name": "stdout",
     "output_type": "stream",
     "text": [
      "J\n",
      "u\n",
      "p\n",
      "y\n",
      "t\n",
      "e\n",
      "r\n",
      "----------\n",
      "r\n",
      "e\n",
      "t\n",
      "y\n",
      "p\n",
      "u\n",
      "J\n"
     ]
    }
   ],
   "source": [
    "#String Slicing\n",
    "s1 = \"Jupyter\"\n",
    "print(s1[0])\n",
    "print(s1[1])\n",
    "print(s1[2])\n",
    "print(s1[3])\n",
    "print(s1[4])\n",
    "print(s1[5])\n",
    "print(s1[6])\n",
    "print(\"----------\")\n",
    "print(s1[-1])\n",
    "print(s1[-2])\n",
    "print(s1[-3])\n",
    "print(s1[-4])\n",
    "print(s1[-5])\n",
    "print(s1[-6])\n",
    "print(s1[-7])\n"
   ]
  },
  {
   "cell_type": "code",
   "execution_count": 39,
   "metadata": {},
   "outputs": [
    {
     "name": "stdout",
     "output_type": "stream",
     "text": [
      "Ju\n",
      "er\n",
      "pyt\n",
      "Jupyter\n",
      "upyte\n",
      "--------\n",
      "retypuJ\n",
      "Jptr\n",
      "rtpJ\n"
     ]
    }
   ],
   "source": [
    "print(s1[0:2])#acess the first two characters\n",
    "print(s1[-2:])\n",
    "print(s1[2:5])\n",
    "print(s1[0:])#prints whole string \n",
    "print(s1[1:-1])\n",
    "print(\"--------\")\n",
    "print(s1[-1::-1])#reverse the string\n",
    "print(s1[::2])#prints alternate characters\n",
    "print(s1[::-2])#prints rev alternate characters"
   ]
  },
  {
   "cell_type": "code",
   "execution_count": 41,
   "metadata": {},
   "outputs": [
    {
     "data": {
      "text/plain": [
       "'nohtyp'"
      ]
     },
     "execution_count": 41,
     "metadata": {},
     "output_type": "execute_result"
    }
   ],
   "source": [
    "#string reversal using function\n",
    "def reverseStr(s):\n",
    "    return s[-1::-1]\n",
    "reverseStr(\"python\")"
   ]
  },
  {
   "cell_type": "code",
   "execution_count": 43,
   "metadata": {},
   "outputs": [
    {
     "name": "stdout",
     "output_type": "stream",
     "text": [
      "False\n",
      "True\n"
     ]
    }
   ],
   "source": [
    "#to cheeck the given string is palindrome\n",
    "def Str(s):\n",
    "    if(s == s[-1::-1]):\n",
    "        return True\n",
    "    return False\n",
    "print(Str('python'))\n",
    "print(Str('ganag'))\n",
    "\n"
   ]
  },
  {
   "cell_type": "code",
   "execution_count": 46,
   "metadata": {},
   "outputs": [
    {
     "name": "stdout",
     "output_type": "stream",
     "text": [
      "P T "
     ]
    }
   ],
   "source": [
    "# ASCII\n",
    "# A -Z : 65-90\n",
    "# a-z :97-122\n",
    "# 0-9 :48-57\n",
    "# space :32\n",
    "\n",
    "def printUpper(s):\n",
    "    for i in range(len(s)):\n",
    "        if ord(s[i]) >= 65 and ord(s[i]) <= 90:\n",
    "            print(s[i],end=\" \")\n",
    "            \n",
    "printUpper(\"PyThon\")"
   ]
  },
  {
   "cell_type": "code",
   "execution_count": 47,
   "metadata": {},
   "outputs": [
    {
     "name": "stdout",
     "output_type": "stream",
     "text": [
      "Programming\n",
      "Samecount\n"
     ]
    }
   ],
   "source": [
    "#Function to return the output a \"Samecount\" or \"Programming\"\n",
    "\n",
    "\n",
    "def count(s):\n",
    "    c=0\n",
    "    c1=0\n",
    "    for i in range(len(s)):\n",
    "        if ord(s[i]) >= 65 and ord(s[i]) <= 90:\n",
    "            c=c+1\n",
    "        if ord(s[i]) >= 97 and ord(s[i]) <= 122:\n",
    "            c1=c1+1\n",
    "    if c == c1:\n",
    "        return \"Samecount\"\n",
    "    else :\n",
    "        return \"Programming\"\n",
    "\n",
    "print(count(\"PythoN\"))\n",
    "print(count(\"PyThOn\"))"
   ]
  },
  {
   "cell_type": "code",
   "execution_count": 52,
   "metadata": {},
   "outputs": [
    {
     "name": "stdout",
     "output_type": "stream",
     "text": [
      "1 8 8 9 "
     ]
    }
   ],
   "source": [
    "def sample(s):\n",
    "    for i in range(len(s)):\n",
    "        if ord(s[i]) >= 48 and ord(s[i]) <=57 :\n",
    "            print(s[i],end=\" \")\n",
    " \n",
    "\n",
    "sample(\"appli18cation89\")            "
   ]
  },
  {
   "cell_type": "code",
   "execution_count": 58,
   "metadata": {},
   "outputs": [
    {
     "data": {
      "text/plain": [
       "26"
      ]
     },
     "execution_count": 58,
     "metadata": {},
     "output_type": "execute_result"
    }
   ],
   "source": [
    "def sample(s):\n",
    "    sum=0\n",
    "    for i in range(len(s)):\n",
    "        if ord(s[i]) >= 48 and ord(s[i]) <=57 :\n",
    "            sum=sum+int(s[i])\n",
    "    return sum\n",
    "\n",
    "sample(\"appli18cation89\")            "
   ]
  },
  {
   "cell_type": "code",
   "execution_count": 70,
   "metadata": {
    "scrolled": true
   },
   "outputs": [
    {
     "name": "stdout",
     "output_type": "stream",
     "text": [
      "MADE"
     ]
    }
   ],
   "source": [
    "def UpperStr(s):\n",
    "    space = 0\n",
    "    for i in range(len(s)):\n",
    "        if ord(s[i]) == 32:\n",
    "           space=space+1\n",
    "        if space == 1:\n",
    "            if ord(s[i]) >= 65 and ord(s[i]) <= 90:  \n",
    "                print(s[i],end='')\n",
    "            elif ord(s[i]) >= 97 and ord(s[i]) <= 122:\n",
    "                print(chr(ord(s[i])-32),end='')\n",
    "        if space == 2:\n",
    "            break\n",
    "UpperStr(\"python made easy\")            "
   ]
  },
  {
   "cell_type": "code",
   "execution_count": 3,
   "metadata": {},
   "outputs": [
    {
     "name": "stdout",
     "output_type": "stream",
     "text": [
      "[2, 3, 4, 5, 6, 7]\n",
      "[2, 3, 4, 5, 6]\n",
      "[2, 3, 4, 5]\n",
      "[2, 3, 4]\n",
      "[2, 3]\n",
      "[2]\n",
      "[6, 7]\n",
      "[5]\n",
      "[4, 5, 6, 7]\n",
      "[3, 4, 5, 6, 7]\n",
      "[2, 3, 4, 5, 6, 7]\n"
     ]
    }
   ],
   "source": [
    "# List \n",
    "li = [2,3,4,5,6,7]\n",
    "#print(li)\n",
    "#print(li[-1::-1])\n",
    "print(li[0:6])\n",
    "print(li[0:5])\n",
    "print(li[0:4])\n",
    "print(li[0:3])\n",
    "print(li[0:2])\n",
    "print(li[0:1])\n",
    "\n",
    "print(li[-2:6])\n",
    "print(li[-3:-2])\n",
    "print(li[-4:6])\n",
    "print(li[-5:6])\n",
    "print(li[-6:])"
   ]
  },
  {
   "cell_type": "code",
   "execution_count": 101,
   "metadata": {},
   "outputs": [
    {
     "name": "stdout",
     "output_type": "stream",
     "text": [
      "['gitam', 123, 212, 12024, 'vizag']\n",
      "['gitam', 191, 212, 12024, 'vizag']\n",
      "['gitam', 191, 212, 12024]\n"
     ]
    }
   ],
   "source": [
    "li = [\"gitam\",123,212,12024,\"vizag\"]\n",
    "print(li)\n",
    "li[1] = 191\n",
    "print(li)\n",
    "del li[4]\n",
    "print(li)"
   ]
  },
  {
   "cell_type": "code",
   "execution_count": 113,
   "metadata": {},
   "outputs": [
    {
     "name": "stdout",
     "output_type": "stream",
     "text": [
      "8\n",
      "[1, 2, 3, 4, 5, 6, 7, 8, 1, 2, 3, 4, 5, 6, 7, 8, 1, 2, 3, 4, 5, 6, 7, 8]\n",
      "True\n",
      "False\n",
      "1 2 3 4 5 6 7 8 \n",
      "1 2 3 4 5 6 7 8 "
     ]
    }
   ],
   "source": [
    "# Basic List Operations\n",
    "li = [1,2,3,4,5,6,7,8]\n",
    "print(len(li))\n",
    "print(li * 3)\n",
    "print(4 in li)\n",
    "print(10 in li)\n",
    "for i in range(len(li)):\n",
    "    print(li[i],end=\" \")\n",
    "print()\n",
    "for i in li :\n",
    "    print(i,end=\" \")"
   ]
  },
  {
   "cell_type": "code",
   "execution_count": 115,
   "metadata": {},
   "outputs": [
    {
     "name": "stdout",
     "output_type": "stream",
     "text": [
      "100\n",
      "1\n",
      "194\n",
      "38\n"
     ]
    }
   ],
   "source": [
    "# Basic List Function\n",
    "li = [1,20,100,50,23]\n",
    "\n",
    "print(max(li))\n",
    "print(min(li))\n",
    "print(sum(li))\n",
    "print(sum(li)//len(li))\n",
    "\n",
    "\n"
   ]
  },
  {
   "cell_type": "code",
   "execution_count": 64,
   "metadata": {},
   "outputs": [
    {
     "name": "stdout",
     "output_type": "stream",
     "text": [
      "[1, 2, 3, 45, 6]\n"
     ]
    },
    {
     "data": {
      "text/plain": [
       "7"
      ]
     },
     "execution_count": 64,
     "metadata": {},
     "output_type": "execute_result"
    }
   ],
   "source": [
    "li = [1,2,3,45,6,7]\n",
    "print(li[:-1])\n",
    "li.append(19)\n",
    "li.insert(2,44)\n",
    "li.append(2)\n",
    "li.count(2)\n",
    "li.index(19)"
   ]
  },
  {
   "cell_type": "code",
   "execution_count": 18,
   "metadata": {},
   "outputs": [
    {
     "data": {
      "text/plain": [
       "[1, 3, 6, 7]"
      ]
     },
     "execution_count": 18,
     "metadata": {},
     "output_type": "execute_result"
    }
   ],
   "source": [
    "#methods of List\n",
    "li.sort()\n",
    "li.pop(1)\n",
    "li"
   ]
  },
  {
   "cell_type": "code",
   "execution_count": 20,
   "metadata": {},
   "outputs": [
    {
     "data": {
      "text/plain": [
       "[2, 34, 348, 7643, 2, 34, 348, 7643, 7, 6, 3, 1]"
      ]
     },
     "execution_count": 20,
     "metadata": {},
     "output_type": "execute_result"
    }
   ],
   "source": [
    "l1=[7643,348,34,2]\n",
    "li.extend(l1)\n",
    "li.reverse()\n",
    "li"
   ]
  },
  {
   "cell_type": "code",
   "execution_count": 21,
   "metadata": {},
   "outputs": [
    {
     "name": "stdout",
     "output_type": "stream",
     "text": [
      "20\n",
      "5\n"
     ]
    }
   ],
   "source": [
    "def largerNumber(li):\n",
    "    li.sort()\n",
    "    return li[-1]\n",
    "def genlarge(li,n):\n",
    "    li.sort()\n",
    "    return li[-n]\n",
    "\n",
    "li = [19,20,1,4,5]\n",
    "print(largerNumber(li))\n",
    "print(genlarge(li,3))"
   ]
  },
  {
   "cell_type": "code",
   "execution_count": 23,
   "metadata": {},
   "outputs": [
    {
     "name": "stdout",
     "output_type": "stream",
     "text": [
      "1\n",
      "5\n"
     ]
    }
   ],
   "source": [
    "# Function To Find The Least Number\n",
    "def leastNumber(li):\n",
    "    li.sort()\n",
    "    return li[0]\n",
    "def genleast(li,n):\n",
    "    li.sort()\n",
    "    return li[n-1]\n",
    "li = [19,20,1,4,5]\n",
    "print(leastNumber(li))\n",
    "print(genleast(li,3))"
   ]
  },
  {
   "cell_type": "markdown",
   "metadata": {},
   "source": [
    "# File Handling"
   ]
  },
  {
   "cell_type": "code",
   "execution_count": 32,
   "metadata": {},
   "outputs": [
    {
     "name": "stdout",
     "output_type": "stream",
     "text": [
      "File is Created\n"
     ]
    }
   ],
   "source": [
    "# Function to create file an write some data to the file\n",
    "def createFile(filename):\n",
    "    f = open(filename,'w')\n",
    "    for i in range(10):\n",
    "        f.write('This is %d Line \\n' %i)\n",
    "    print(\"File is Created\")\n",
    "createFile(\"sample.txt\")    "
   ]
  },
  {
   "cell_type": "code",
   "execution_count": 35,
   "metadata": {},
   "outputs": [
    {
     "name": "stdout",
     "output_type": "stream",
     "text": [
      "File is Created\n"
     ]
    }
   ],
   "source": [
    "def createFile(filename):\n",
    "     f = open(filename,'w')\n",
    "     f.write('Gitam Vizag Training')\n",
    "     print(\"File is Created\")\n",
    "createFile(\"sample.txt\")    \n",
    "        \n",
    "    "
   ]
  },
  {
   "cell_type": "code",
   "execution_count": 48,
   "metadata": {},
   "outputs": [
    {
     "name": "stdout",
     "output_type": "stream",
     "text": [
      "File is Created\n"
     ]
    }
   ],
   "source": [
    "def appendMode(filename):\n",
    "    f = open(filename,'a')\n",
    "    f.write('\\nGitam Vizag\\n')\n",
    "    f.write('python programming \\n')\n",
    "    print(\"File is Created\")\n",
    "appendMode(\"sample.txt\")    \n"
   ]
  },
  {
   "cell_type": "code",
   "execution_count": 50,
   "metadata": {},
   "outputs": [
    {
     "name": "stdout",
     "output_type": "stream",
     "text": [
      "Gitam Vizag Training\n",
      "\n",
      "Gitam Vizag\n",
      "python programming \n",
      "\n",
      "\n"
     ]
    }
   ],
   "source": [
    "def readFile(filename):\n",
    "    f = open(filename,'r')\n",
    "    if f.mode == 'r':\n",
    "        a = f.read()\n",
    "        print(a)\n",
    "    f.close()\n",
    "readFile(\"sample.txt\")\n",
    "        \n"
   ]
  },
  {
   "cell_type": "code",
   "execution_count": 59,
   "metadata": {},
   "outputs": [
    {
     "name": "stdout",
     "output_type": "stream",
     "text": [
      "10\n"
     ]
    }
   ],
   "source": [
    "def wordCount(filename,word):\n",
    "    with open(filename,'r') as f:\n",
    "        if f.mode == 'r':\n",
    "            a = f.read()\n",
    "            li = a.split()\n",
    "    print(li.count(word))\n",
    "    \n",
    "wordCount(\"sample.txt\",'This')\n",
    "        "
   ]
  },
  {
   "cell_type": "code",
   "execution_count": 67,
   "metadata": {},
   "outputs": [
    {
     "name": "stdout",
     "output_type": "stream",
     "text": [
      "number of letters : 116\n"
     ]
    }
   ],
   "source": [
    "#function to find the character count from the input file\n",
    "def charCount(filename):\n",
    "    with open(filename,'r') as f:\n",
    "        if f.mode == 'r':\n",
    "            a = f.read()\n",
    "            li = list(a)\n",
    "    print(\"number of letters :\",len(li))\n",
    "charCount(\"sample.txt\")\n",
    "\n"
   ]
  },
  {
   "cell_type": "code",
   "execution_count": 66,
   "metadata": {},
   "outputs": [
    {
     "name": "stdout",
     "output_type": "stream",
     "text": [
      "number of lines : 17\n"
     ]
    }
   ],
   "source": [
    "def countLine(filename):\n",
    "    with open(filename,'r') as f:\n",
    "        if f.mode == 'r':\n",
    "            a = f.read()\n",
    "            li = a.split('\\n')\n",
    "    print(\"number of lines :\",len(li)) \n",
    "countLine('sample.txt')\n"
   ]
  },
  {
   "cell_type": "code",
   "execution_count": 71,
   "metadata": {},
   "outputs": [
    {
     "data": {
      "text/plain": [
       "'Upper Case : 15 Lower Case : 70 Digit : 20'"
      ]
     },
     "execution_count": 71,
     "metadata": {},
     "output_type": "execute_result"
    }
   ],
   "source": [
    "# function to find the upper and lower case character from th input stream\n",
    "def caseCount(filename):\n",
    "    ucount = 0;\n",
    "    lcount = 0;\n",
    "    cntDigit = 0;\n",
    "    with open(filename,'r') as f:\n",
    "        if f.mode == 'r':\n",
    "            a = f.read()\n",
    "            li = list(a)\n",
    "    for i in range(len(li)):\n",
    "        if ord(li[i]) >= 65 and ord(li[i]) <= 90:\n",
    "            ucount = ucount + 1\n",
    "        if ord(li[i]) >= 97 and ord(li[i]) <= 122:\n",
    "            lcount = lcount + 1\n",
    "        if ord(li[i]) >= 48 and ord(li[i]) <= 57:\n",
    "            cntDigit = cntDigit + 1\n",
    "    output = 'Upper Case : {0} Lower Case : {1} Digit : {2}'.format(ucount,lcount,cntDigit)       \n",
    "    return output        \n",
    "caseCount('sample.txt')          "
   ]
  },
  {
   "cell_type": "code",
   "execution_count": 5,
   "metadata": {},
   "outputs": [
    {
     "name": "stdout",
     "output_type": "stream",
     "text": [
      "PYTHON\n",
      "programming\n"
     ]
    }
   ],
   "source": [
    "s1 = 'python'\n",
    "print(s1.upper())\n",
    "\n",
    "s2 = 'PROGRAMMING'\n",
    "print(s2.lower())"
   ]
  },
  {
   "cell_type": "code",
   "execution_count": 16,
   "metadata": {},
   "outputs": [
    {
     "name": "stdout",
     "output_type": "stream",
     "text": [
      "True\n",
      "False\n",
      "True\n",
      "True\n",
      "False\n",
      "True\n",
      "True\n"
     ]
    }
   ],
   "source": [
    "# String Booleean Functions \n",
    "\n",
    "s1 = 'python'\n",
    "print(s1.islower())\n",
    "print(s1.isupper())\n",
    "s2 = 'Html Coding'\n",
    "print(s2.istitle())\n",
    "s3 = '233918'\n",
    "print(s3.isnumeric())\n",
    "s4 = '101py'\n",
    "print(s4.isnumeric())\n",
    "s5 = 'alphabets'\n",
    "print(s5.isalpha())\n",
    "s6 = ' '\n",
    "print(s6.isspace())"
   ]
  },
  {
   "cell_type": "code",
   "execution_count": 47,
   "metadata": {},
   "outputs": [
    {
     "name": "stdout",
     "output_type": "stream",
     "text": [
      "['Python Progr', 'mming']\n",
      "Python Progr@mming\n",
      "P y t h o n   P r o g r a m m i n g\n"
     ]
    }
   ],
   "source": [
    "# String Methods\n",
    "s1 = 'Python Programming'\n",
    "li = s1.split('a')\n",
    "print(li)\n",
    "print(s1.replace('a','@'))\n",
    "print(\" \".join(s1))"
   ]
  },
  {
   "cell_type": "code",
   "execution_count": 55,
   "metadata": {},
   "outputs": [
    {
     "name": "stdout",
     "output_type": "stream",
     "text": [
      "python programming\n",
      "List Item 0 : python \n",
      "List Item 1 : programming\n"
     ]
    }
   ],
   "source": [
    "# String Formatting \n",
    "li = ['python','programming']\n",
    "print('%s %s' %(li[0],li[1]))\n",
    "print(\"List Item 0 : {0} \\nList Item 1 : {1}\".format(li[0],li[1]))"
   ]
  },
  {
   "cell_type": "code",
   "execution_count": 57,
   "metadata": {},
   "outputs": [
    {
     "name": "stdout",
     "output_type": "stream",
     "text": [
      "List Item 0 : python \n",
      "List Item 1 : programming\n"
     ]
    }
   ],
   "source": [
    "li = ['python','programming']\n",
    "print(f\"List Item 0 : {li[0]} \\nList Item 1 : {li[1]}\")"
   ]
  },
  {
   "cell_type": "markdown",
   "metadata": {},
   "source": [
    "# Data Structures\n",
    "\n",
    "- list\n",
    "- tuple\n",
    "- Dictionaries"
   ]
  },
  {
   "cell_type": "code",
   "execution_count": 67,
   "metadata": {},
   "outputs": [
    {
     "name": "stdout",
     "output_type": "stream",
     "text": [
      "{'Name': 'Gitam', 'EmailID': 'gitamvizag@gmail.com', 'Address': 'Vizag'}\n",
      "Gitam\n",
      "GitamVizag@gmail.com\n"
     ]
    }
   ],
   "source": [
    "# Dictionaries\n",
    "li = {\"Name\":\"Gitam\",\"EmailID\":\"gitamvizag@gmail.com\",\"Address\":\"Vizag\"}\n",
    "print(li)\n",
    "print(li[\"Name\"])\n",
    "li[\"EmailID\"]= \"GitamVizag@gmail.com\"\n",
    "print(li[\"EmailID\"])\n"
   ]
  },
  {
   "cell_type": "code",
   "execution_count": null,
   "metadata": {},
   "outputs": [],
   "source": []
  }
 ],
 "metadata": {
  "kernelspec": {
   "display_name": "Python 3",
   "language": "python",
   "name": "python3"
  },
  "language_info": {
   "codemirror_mode": {
    "name": "ipython",
    "version": 3
   },
   "file_extension": ".py",
   "mimetype": "text/x-python",
   "name": "python",
   "nbconvert_exporter": "python",
   "pygments_lexer": "ipython3",
   "version": "3.7.3"
  }
 },
 "nbformat": 4,
 "nbformat_minor": 2
}
