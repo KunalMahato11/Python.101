{
 "cells": [
  {
   "cell_type": "code",
   "execution_count": 5,
   "metadata": {},
   "outputs": [
    {
     "name": "stdout",
     "output_type": "stream",
     "text": [
      "enter the year :2000\n",
      "Leap Year\n"
     ]
    }
   ],
   "source": [
    "#check the year is leap year or not \n",
    "year = int(input(\"enter the year :\"))\n",
    "if year % 400 == 0 or (year % 100 !=0 and year %  4 == 0):\n",
    "    print(\"Leap Year\")\n",
    "else:\n",
    "    print(\"Not Leap Year\")"
   ]
  },
  {
   "cell_type": "code",
   "execution_count": 10,
   "metadata": {},
   "outputs": [
    {
     "name": "stdout",
     "output_type": "stream",
     "text": [
      "enter a value :100\n",
      "1 2 3 4 5 6 7 8 9 10 11 12 13 14 15 16 17 18 19 20 21 22 23 24 25 26 27 28 29 30 31 32 33 34 35 36 37 38 39 40 41 42 43 44 45 46 47 48 49 50 51 52 53 54 55 56 57 58 59 60 61 62 63 64 65 66 67 68 69 70 71 72 73 74 75 76 77 78 79 80 81 82 83 84 85 86 87 88 89 90 91 92 93 94 95 96 97 98 99 100 "
     ]
    }
   ],
   "source": [
    "#while loop\n",
    "x = int(input(\"enter a value :\"))\n",
    "i = 1\n",
    "while i <= x:\n",
    "    print(i,end = \" \")\n",
    "    i = i + 1\n",
    "    "
   ]
  },
  {
   "cell_type": "code",
   "execution_count": 2,
   "metadata": {},
   "outputs": [
    {
     "name": "stdout",
     "output_type": "stream",
     "text": [
      "10\n",
      "sum : 30\n"
     ]
    }
   ],
   "source": [
    "#sum of even\n",
    "n = int(input())\n",
    "i=1\n",
    "sum = 0\n",
    "while i <= n:\n",
    "    if i%2 == 0:\n",
    "        sum = sum + i\n",
    "    i=i+1\n",
    "print(\"sum :\",sum)    \n",
    "    "
   ]
  },
  {
   "cell_type": "code",
   "execution_count": 8,
   "metadata": {},
   "outputs": [
    {
     "name": "stdout",
     "output_type": "stream",
     "text": [
      "enter a number :123\n",
      "reverse of the digits :\n",
      "3 2 1 "
     ]
    }
   ],
   "source": [
    "#reversing digits of the number \n",
    "m = int(input(\"enter a number :\"))\n",
    "i=1\n",
    "t=0\n",
    "print(\"reverse of the digits :\")\n",
    "while i <= m:\n",
    "    t=m%10\n",
    "    print(t, end= \" \")\n",
    "    m=m//10\n",
    "    "
   ]
  },
  {
   "cell_type": "code",
   "execution_count": 20,
   "metadata": {},
   "outputs": [
    {
     "name": "stdout",
     "output_type": "stream",
     "text": [
      "sum : 20\n"
     ]
    }
   ],
   "source": [
    "#even digit sum using functions\n",
    "def evenDigitSum(n):\n",
    "    s = 0\n",
    "    while n != 0:\n",
    "        r = n % 10\n",
    "        if r % 2 == 0:\n",
    "            s = s + r\n",
    "        n = n // 10    \n",
    "    return s\n",
    "\n",
    "print(\"sum :\",evenDigitSum(323445765741))\n"
   ]
  },
  {
   "cell_type": "code",
   "execution_count": 4,
   "metadata": {},
   "outputs": [
    {
     "data": {
      "text/plain": [
       "9"
      ]
     },
     "execution_count": 4,
     "metadata": {},
     "output_type": "execute_result"
    }
   ],
   "source": [
    "#largest digit among a number \n",
    "def maxDigit(n):\n",
    "    large = 0 \n",
    "    while n != 0:\n",
    "        r = n % 10\n",
    "        \n",
    "        if large<r :\n",
    "            large = r\n",
    "            \n",
    "        n = n//10\n",
    "    return large\n",
    "maxDigit(125987892183)\n",
    "    "
   ]
  },
  {
   "cell_type": "code",
   "execution_count": 18,
   "metadata": {},
   "outputs": [
    {
     "name": "stdout",
     "output_type": "stream",
     "text": [
      "Yes\n",
      "No\n"
     ]
    }
   ],
   "source": [
    "#sum of factorial of digits\n",
    "def factorial(n):\n",
    "    fact = 1\n",
    "    i = 1\n",
    "    while i <= n:\n",
    "        fact = fact * i\n",
    "        i = i + 1\n",
    "    return fact\n",
    "\n",
    "def digitFact(n):\n",
    "    buffer = n\n",
    "    sum = 0\n",
    "    while n != 0:\n",
    "        r = n % 10\n",
    "        sum = sum + factorial(r)\n",
    "        n = n//10\n",
    "    if buffer == sum:\n",
    "        return \"Yes\"\n",
    "    else :\n",
    "        return \"No\"\n",
    "print(digitFact(145))\n",
    "print(digitFact(123))"
   ]
  },
  {
   "cell_type": "code",
   "execution_count": 24,
   "metadata": {},
   "outputs": [
    {
     "name": "stdout",
     "output_type": "stream",
     "text": [
      "palindrome\n",
      "not a palindrome\n"
     ]
    }
   ],
   "source": [
    "#to check palindrome\n",
    "def isPalindrome(n):\n",
    "    buffer = n\n",
    "    r = 0\n",
    "    while n != 0:\n",
    "        r = r * 10 + (n%10)\n",
    "        n = n//10\n",
    "    if buffer == r:\n",
    "        return \"palindrome\"\n",
    "    return \"not a palindrome\"\n",
    "print(isPalindrome(121))\n",
    "print(isPalindrome(123))\n",
    "    "
   ]
  },
  {
   "cell_type": "code",
   "execution_count": 32,
   "metadata": {},
   "outputs": [
    {
     "name": "stdout",
     "output_type": "stream",
     "text": [
      "1 2 3 4 5 6 7 8 9 10 11 12 13 14 15 16 17 18 19 20 21 22 23 24 25 26 27 28 29 30 31 32 33 34 35 36 37 38 39 40 41 42 43 44 45 46 47 48 49 50 51 52 53 54 55 56 57 58 59 60 61 62 63 64 65 66 67 68 69 70 71 72 73 74 75 76 77 78 79 80 81 82 83 84 85 86 87 88 89 90 91 92 93 94 95 96 97 98 99 100 "
     ]
    }
   ],
   "source": [
    "#for loop\n",
    "def printSeries(lb,ub):\n",
    "    for x in range(lb,ub+1):\n",
    "        print(x,end=\" \")\n",
    "\n",
    "printSeries(1,100)"
   ]
  },
  {
   "cell_type": "code",
   "execution_count": 8,
   "metadata": {},
   "outputs": [
    {
     "name": "stdout",
     "output_type": "stream",
     "text": [
      "1 3 5 7 9 11 13 15 17 19 21 23 25 27 29 31 33 35 37 39 41 43 45 47 49 51 53 55 57 59 61 63 65 67 69 71 73 75 77 79 81 83 85 87 89 91 93 95 97 99 "
     ]
    }
   ],
   "source": [
    "def alternate(lb,ub):\n",
    "    for x in range(lb,ub+1,2):\n",
    "        print(x,end=\" \")\n",
    "        \n",
    "alternate(1,100)        \n",
    "        "
   ]
  },
  {
   "cell_type": "code",
   "execution_count": null,
   "metadata": {},
   "outputs": [],
   "source": []
  },
  {
   "cell_type": "code",
   "execution_count": null,
   "metadata": {},
   "outputs": [],
   "source": []
  }
 ],
 "metadata": {
  "kernelspec": {
   "display_name": "Python 3",
   "language": "python",
   "name": "python3"
  },
  "language_info": {
   "codemirror_mode": {
    "name": "ipython",
    "version": 3
   },
   "file_extension": ".py",
   "mimetype": "text/x-python",
   "name": "python",
   "nbconvert_exporter": "python",
   "pygments_lexer": "ipython3",
   "version": "3.7.3"
  }
 },
 "nbformat": 4,
 "nbformat_minor": 2
}
